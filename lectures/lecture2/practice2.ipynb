{
 "cells": [
  {
   "cell_type": "markdown",
   "metadata": {},
   "source": [
    "# Semi-implicit Euler"
   ]
  },
  {
   "cell_type": "markdown",
   "metadata": {},
   "source": [
    "It is possible to obtain symplectic semi-implicit Euler method considering approximation\n",
    "$$\\text{e}^{i\\widetilde{L}\\Delta t} = \\text{e}^{iL_1\\Delta t}\\text{e}^{iL_2\\Delta t}$$"
   ]
  },
  {
   "cell_type": "markdown",
   "metadata": {},
   "source": [
    "As it was done for velocity-Verlet method\n",
    "$$\\begin{pmatrix}r(\\Delta t) \\\\ p(\\Delta t)\\end{pmatrix} = \\underbrace{\\text{e}^{iL_1\\Delta t}\\underbrace{\\text{e}^{iL_2\\Delta t} \\begin{pmatrix}r_0 \\\\ p_0\\end{pmatrix}}_{1}}_{2} $$"
   ]
  },
  {
   "cell_type": "markdown",
   "metadata": {},
   "source": [
    "1. $$\\text{e}^{iL_2\\Delta t} \\begin{pmatrix}r_0 \\\\ p_0\\end{pmatrix} = \\text{e}^{F(r_0)\\Delta t \\frac{\\partial}{\\partial p}} \\begin{pmatrix}r_0 \\\\ p_0\\end{pmatrix} \\\\ =  \\begin{pmatrix}r_0 \\\\ p_0 + F(r_0)\\Delta t\\end{pmatrix}$$\n",
    "2. $$\\text{e}^{iL_1\\Delta t} \\begin{pmatrix}r_0 \\\\ p_0 + F(r_0)\\Delta t\\end{pmatrix} = \\text{e}^{\\frac{p_0}{m}\\Delta t \\frac{\\partial}{\\partial r}} \\begin{pmatrix}r_0 \\\\ p_0 + F(r_0)\\Delta t\\end{pmatrix} \\\\ = \\begin{pmatrix}r_0 + \\frac{p_0}{m}\\Delta t\\\\ p_0 + F\\left(r_0 + \\frac{p_0}{m}\\Delta t\\right)\\Delta t\\end{pmatrix} = \\begin{pmatrix}r(\\Delta t) \\\\ p(\\Delta t)\\end{pmatrix}$$"
   ]
  },
  {
   "cell_type": "markdown",
   "metadata": {},
   "source": [
    "One step of the method has a form\n",
    "$$\\begin{cases}r_{i+1} = r_i + v_i\\Delta t \\\\ v_{i+1} = v_i + \\frac{F(r_{i+1})}{m}\\Delta t\\end{cases}$$"
   ]
  },
  {
   "cell_type": "markdown",
   "metadata": {},
   "source": [
    "To obtain some results we choose harmonic oscillator Hamiltonian\n",
    "$$H = \\frac{p^2}{2m} + \\frac{m \\omega^2 x^2}{2}$$\n",
    "So the force\n",
    "$$F(r) = -\\frac{\\partial H}{\\partial q} = -\\frac{\\partial H}{\\partial x} = - m\\omega^2 x$$"
   ]
  }
 ],
 "metadata": {
  "kernelspec": {
   "display_name": ".venv",
   "language": "python",
   "name": "python3"
  },
  "language_info": {
   "name": "python",
   "version": "3.9.12"
  }
 },
 "nbformat": 4,
 "nbformat_minor": 2
}
